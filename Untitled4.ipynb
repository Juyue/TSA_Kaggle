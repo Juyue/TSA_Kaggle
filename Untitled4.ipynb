{
 "cells": [
  {
   "cell_type": "code",
   "execution_count": 2,
   "metadata": {
    "collapsed": true
   },
   "outputs": [],
   "source": [
    "import read_img_tsa as tsa_rf\n",
    "import os\n",
    "import numpy as np\n",
    "from matplotlib import pyplot as plt\n",
    "from matplotlib import animation\n",
    "root_folder = r'E:\\Juyue\\Kaggle_Data\\sample\\sample\\subject_1'\n",
    "\n",
    "def load_data_for_one_subject(root_folder):\n",
    "#     def list_dir_endswith(path_name, extension_name):\n",
    "#         file_name_all = os.listdir(path_name)\n",
    "#         file_name_correct_extension = []\n",
    "#         for file_name in file_name_all:\n",
    "#             if file_name.endswith(extension_name) and not file_name.startswith('.'):\n",
    "#                 file_name_correct_extension.append(file_name)\n",
    "\n",
    "#         return file_name_correct_extension\n",
    "    file_extension =['.a3daps','.a3d','.aps','.ahi']\n",
    "    data = {}\n",
    "    for ff in range(2):\n",
    "        file_name_all = list_dir_endswith(root_folder, file_extension[ff])\n",
    "        file_full_path = os.path.join(root_folder,  file_name_all[0])\n",
    "        data[file_extension[ff]] = tsa_rf.read_data(file_full_path)\n",
    "\n",
    "    return data"
   ]
  },
  {
   "cell_type": "code",
   "execution_count": 3,
   "metadata": {},
   "outputs": [
    {
     "name": "stdout",
     "output_type": "stream",
     "text": [
      "FilePosition 512\n",
      "FilePosition 512\n"
     ]
    }
   ],
   "source": [
    "data = load_data_for_one_subject()"
   ]
  },
  {
   "cell_type": "code",
   "execution_count": 4,
   "metadata": {},
   "outputs": [
    {
     "data": {
      "text/plain": [
       "(512, 660, 64)"
      ]
     },
     "execution_count": 4,
     "metadata": {},
     "output_type": "execute_result"
    }
   ],
   "source": [
    "data['.a3daps'].shape"
   ]
  },
  {
   "cell_type": "code",
   "execution_count": 5,
   "metadata": {},
   "outputs": [
    {
     "data": {
      "text/plain": [
       "(512, 512, 660)"
      ]
     },
     "execution_count": 5,
     "metadata": {},
     "output_type": "execute_result"
    }
   ],
   "source": [
    "data['.a3d'].shape"
   ]
  },
  {
   "cell_type": "code",
   "execution_count": 2,
   "metadata": {},
   "outputs": [],
   "source": [
    "import numpy as np\n",
    "a = np.arange(4)\n",
    "b = np.arange(3)\n",
    "c = np.arange(6)\n"
   ]
  },
  {
   "cell_type": "code",
   "execution_count": 3,
   "metadata": {
    "collapsed": true
   },
   "outputs": [],
   "source": [
    "d = np.concatenate((a, b, c))"
   ]
  }
 ],
 "metadata": {
  "kernelspec": {
   "display_name": "Python [conda env:tensorflow_kaggle_clone]",
   "language": "python",
   "name": "conda-env-tensorflow_kaggle_clone-py"
  },
  "language_info": {
   "codemirror_mode": {
    "name": "ipython",
    "version": 3
   },
   "file_extension": ".py",
   "mimetype": "text/x-python",
   "name": "python",
   "nbconvert_exporter": "python",
   "pygments_lexer": "ipython3",
   "version": "3.6.2"
  }
 },
 "nbformat": 4,
 "nbformat_minor": 2
}
