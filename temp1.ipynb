{
 "cells": [
  {
   "cell_type": "code",
   "execution_count": 5,
   "metadata": {
    "collapsed": true
   },
   "outputs": [],
   "source": [
    "import read_img_tsa as tsa_rf\n",
    "import os\n",
    "import numpy as np\n",
    "from matplotlib import pyplot as plt\n",
    "from matplotlib import animation\n",
    "\n",
    "root_folder = r'E:\\Juyue\\Kaggle_Data\\sample\\sample'"
   ]
  },
  {
   "cell_type": "code",
   "execution_count": 6,
   "metadata": {
    "collapsed": true
   },
   "outputs": [],
   "source": [
    "def list_dir_endswith(path_name, extension_name):\n",
    "    file_name_all = os.listdir(path_name)\n",
    "    file_name_correct_extension = []\n",
    "    for file_name in file_name_all:\n",
    "        if file_name.endswith(extension_name) and not file_name.startswith('.'):\n",
    "            file_name_correct_extension.append(file_name)\n",
    "    \n",
    "    return file_name_correct_extension"
   ]
  },
  {
   "cell_type": "code",
   "execution_count": 7,
   "metadata": {
    "collapsed": true
   },
   "outputs": [],
   "source": [
    "import os\n",
    "import numpy as np\n",
    "from matplotlib import pyplot as plt\n",
    "from matplotlib import animation\n",
    "\n",
    "def plot_image_movie(data):\n",
    "    fig = plt.figure(figsize = (16,16))\n",
    "    ax = fig.add_subplot(111)\n",
    "    def animate(i):\n",
    "        im = ax.imshow(np.flipud(data[:,:,i].transpose()), cmap = 'viridis')\n",
    "        return [im]\n",
    "    return animation.FuncAnimation(fig, animate, frames=range(0,data.shape[2]), interval=200, blit=True)\n",
    "\n",
    "def create_animation_for_data_path(root_folder, file_name):\n",
    "    import read_img_tsa as tsa_rf\n",
    "    file_full_path = os.path.join(root_folder,  file_name)\n",
    "    data = tsa_rf.read_data(file_full_path)\n",
    "    animation_object = plot_image_movie(data)\n",
    "    \n",
    "    animation_file_name = os.path.join(root_folder, os.path.splitext(file_name)[0] + os.path.splitext(file_name)[1][1:] + '.mp4')\n",
    "    animation_object.save(animation_file_name, fps=30, extra_args=['-vcodec', 'libx264'])"
   ]
  },
  {
   "cell_type": "code",
   "execution_count": null,
   "metadata": {},
   "outputs": [
    {
     "name": "stdout",
     "output_type": "stream",
     "text": [
      "FilePosition 512\n",
      "FilePosition 512\n",
      "FilePosition 512\n",
      "FilePosition 512\n",
      "FilePosition 512\n",
      "FilePosition 512\n",
      "FilePosition 512\n"
     ]
    }
   ],
   "source": [
    "# # search for all the files in this folder. 3d, or \n",
    "# file_extension =['aps','a3daps','a3d','ahi']\n",
    "# for ff in range(3):\n",
    "#     file_name_all = list_dir_endswith(root_folder, file_extension[ff])\n",
    "#     for file_name in file_name_all:\n",
    "#         create_animation_for_data_path(root_folder, file_name)"
   ]
  }
 ],
 "metadata": {
  "kernelspec": {
   "display_name": "Python [conda env:tensorflow_kaggle_clone]",
   "language": "python",
   "name": "conda-env-tensorflow_kaggle_clone-py"
  },
  "language_info": {
   "codemirror_mode": {
    "name": "ipython",
    "version": 3
   },
   "file_extension": ".py",
   "mimetype": "text/x-python",
   "name": "python",
   "nbconvert_exporter": "python",
   "pygments_lexer": "ipython3",
   "version": "3.6.2"
  }
 },
 "nbformat": 4,
 "nbformat_minor": 1
}
