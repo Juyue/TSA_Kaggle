{
 "cells": [
  {
   "cell_type": "code",
   "execution_count": 11,
   "metadata": {
    "collapsed": true
   },
   "outputs": [],
   "source": [
    "import pandas as pd\n",
    "import numpy as np\n",
    "import matplotlib.pyplot as plt\n",
    "% matplotlib inline\n",
    "\n",
    "n_zone_max = 17\n",
    "plt.style.use('ggplot')\n",
    "pd.options.display.max_rows = 5\n",
    "\n"
   ]
  },
  {
   "cell_type": "code",
   "execution_count": 12,
   "metadata": {
    "collapsed": true
   },
   "outputs": [],
   "source": [
    "label_file_fullpath =  r'E:\\Juyue\\Kaggle_Data\\stage1_labels.csv'\n",
    "unsorted_df = pd.read_csv(label_file_fullpath)\n",
    "\n"
   ]
  },
  {
   "cell_type": "code",
   "execution_count": 22,
   "metadata": {},
   "outputs": [
    {
     "data": {
      "text/plain": [
       "<bound method NDFrame.head of                                             Id  Probability\n",
       "0       00360f79fd6e02781457eda48f85da90_Zone1            0\n",
       "1      00360f79fd6e02781457eda48f85da90_Zone10            0\n",
       "...                                        ...          ...\n",
       "19497   ffefec0cd4e1e2c3fe64bb93f082efdd_Zone8            0\n",
       "19498   ffefec0cd4e1e2c3fe64bb93f082efdd_Zone9            1\n",
       "\n",
       "[19499 rows x 2 columns]>"
      ]
     },
     "execution_count": 22,
     "metadata": {},
     "output_type": "execute_result"
    }
   ],
   "source": [
    "unsorted_df.head"
   ]
  },
  {
   "cell_type": "code",
   "execution_count": 34,
   "metadata": {
    "collapsed": true
   },
   "outputs": [],
   "source": [
    "n_zone_max = 17\n",
    "s = list(range(0,len(unsorted_df),n_zone_max ))\n",
    "obs = unsorted_df.loc[s,'Id'].str.split('_')\n",
    "scan_ID = [x[0] for x in obs]"
   ]
  },
  {
   "cell_type": "code",
   "execution_count": 41,
   "metadata": {
    "collapsed": true
   },
   "outputs": [],
   "source": [
    "columns = sorted(['Zone' + str(i + 1) for i in range(n_zone_max)])"
   ]
  },
  {
   "cell_type": "code",
   "execution_count": 43,
   "metadata": {},
   "outputs": [
    {
     "data": {
      "text/plain": [
       "<bound method NDFrame.head of                                  Zone1 Zone10 Zone11 Zone12 Zone13 Zone14  \\\n",
       "00360f79fd6e02781457eda48f85da90   NaN    NaN    NaN    NaN    NaN    NaN   \n",
       "0043db5e8c819bffc15261b1f1ac5e42   NaN    NaN    NaN    NaN    NaN    NaN   \n",
       "...                                ...    ...    ...    ...    ...    ...   \n",
       "ff9c9b7de5dacc8315e2bbc18c451c49   NaN    NaN    NaN    NaN    NaN    NaN   \n",
       "ffefec0cd4e1e2c3fe64bb93f082efdd   NaN    NaN    NaN    NaN    NaN    NaN   \n",
       "\n",
       "                                 Zone15 Zone16 Zone17 Zone2 Zone3 Zone4 Zone5  \\\n",
       "00360f79fd6e02781457eda48f85da90    NaN    NaN    NaN   NaN   NaN   NaN   NaN   \n",
       "0043db5e8c819bffc15261b1f1ac5e42    NaN    NaN    NaN   NaN   NaN   NaN   NaN   \n",
       "...                                 ...    ...    ...   ...   ...   ...   ...   \n",
       "ff9c9b7de5dacc8315e2bbc18c451c49    NaN    NaN    NaN   NaN   NaN   NaN   NaN   \n",
       "ffefec0cd4e1e2c3fe64bb93f082efdd    NaN    NaN    NaN   NaN   NaN   NaN   NaN   \n",
       "\n",
       "                                 Zone6 Zone7 Zone8 Zone9  \n",
       "00360f79fd6e02781457eda48f85da90   NaN   NaN   NaN   NaN  \n",
       "0043db5e8c819bffc15261b1f1ac5e42   NaN   NaN   NaN   NaN  \n",
       "...                                ...   ...   ...   ...  \n",
       "ff9c9b7de5dacc8315e2bbc18c451c49   NaN   NaN   NaN   NaN  \n",
       "ffefec0cd4e1e2c3fe64bb93f082efdd   NaN   NaN   NaN   NaN  \n",
       "\n",
       "[1147 rows x 17 columns]>"
      ]
     },
     "execution_count": 43,
     "metadata": {},
     "output_type": "execute_result"
    }
   ],
   "source": [
    "df = pd.DataFrame(index = scan_ID, columns = columns)\n",
    "df.head"
   ]
  },
  {
   "cell_type": "code",
   "execution_count": 51,
   "metadata": {
    "collapsed": true
   },
   "outputs": [],
   "source": [
    "# put data into it.\n",
    "for i in range(n_zone_max):\n",
    "    s = range(i, len(unsorted_df), n_zone_max)\n",
    "    df.iloc[:,i] = unsorted_df.iloc[s, 1].values"
   ]
  },
  {
   "cell_type": "code",
   "execution_count": 52,
   "metadata": {},
   "outputs": [
    {
     "data": {
      "text/html": [
       "<div>\n",
       "<style>\n",
       "    .dataframe thead tr:only-child th {\n",
       "        text-align: right;\n",
       "    }\n",
       "\n",
       "    .dataframe thead th {\n",
       "        text-align: left;\n",
       "    }\n",
       "\n",
       "    .dataframe tbody tr th {\n",
       "        vertical-align: top;\n",
       "    }\n",
       "</style>\n",
       "<table border=\"1\" class=\"dataframe\">\n",
       "  <thead>\n",
       "    <tr style=\"text-align: right;\">\n",
       "      <th></th>\n",
       "      <th>Zone1</th>\n",
       "      <th>Zone10</th>\n",
       "      <th>Zone11</th>\n",
       "      <th>Zone12</th>\n",
       "      <th>Zone13</th>\n",
       "      <th>Zone14</th>\n",
       "      <th>Zone15</th>\n",
       "      <th>Zone16</th>\n",
       "      <th>Zone17</th>\n",
       "      <th>Zone2</th>\n",
       "      <th>Zone3</th>\n",
       "      <th>Zone4</th>\n",
       "      <th>Zone5</th>\n",
       "      <th>Zone6</th>\n",
       "      <th>Zone7</th>\n",
       "      <th>Zone8</th>\n",
       "      <th>Zone9</th>\n",
       "    </tr>\n",
       "  </thead>\n",
       "  <tbody>\n",
       "    <tr>\n",
       "      <th>00360f79fd6e02781457eda48f85da90</th>\n",
       "      <td>0</td>\n",
       "      <td>0</td>\n",
       "      <td>0</td>\n",
       "      <td>0</td>\n",
       "      <td>0</td>\n",
       "      <td>1</td>\n",
       "      <td>0</td>\n",
       "      <td>0</td>\n",
       "      <td>0</td>\n",
       "      <td>0</td>\n",
       "      <td>0</td>\n",
       "      <td>0</td>\n",
       "      <td>0</td>\n",
       "      <td>0</td>\n",
       "      <td>0</td>\n",
       "      <td>0</td>\n",
       "      <td>0</td>\n",
       "    </tr>\n",
       "    <tr>\n",
       "      <th>0043db5e8c819bffc15261b1f1ac5e42</th>\n",
       "      <td>1</td>\n",
       "      <td>0</td>\n",
       "      <td>0</td>\n",
       "      <td>0</td>\n",
       "      <td>0</td>\n",
       "      <td>1</td>\n",
       "      <td>0</td>\n",
       "      <td>0</td>\n",
       "      <td>0</td>\n",
       "      <td>0</td>\n",
       "      <td>0</td>\n",
       "      <td>0</td>\n",
       "      <td>0</td>\n",
       "      <td>0</td>\n",
       "      <td>0</td>\n",
       "      <td>0</td>\n",
       "      <td>1</td>\n",
       "    </tr>\n",
       "    <tr>\n",
       "      <th>...</th>\n",
       "      <td>...</td>\n",
       "      <td>...</td>\n",
       "      <td>...</td>\n",
       "      <td>...</td>\n",
       "      <td>...</td>\n",
       "      <td>...</td>\n",
       "      <td>...</td>\n",
       "      <td>...</td>\n",
       "      <td>...</td>\n",
       "      <td>...</td>\n",
       "      <td>...</td>\n",
       "      <td>...</td>\n",
       "      <td>...</td>\n",
       "      <td>...</td>\n",
       "      <td>...</td>\n",
       "      <td>...</td>\n",
       "      <td>...</td>\n",
       "    </tr>\n",
       "    <tr>\n",
       "      <th>ff9c9b7de5dacc8315e2bbc18c451c49</th>\n",
       "      <td>1</td>\n",
       "      <td>0</td>\n",
       "      <td>0</td>\n",
       "      <td>0</td>\n",
       "      <td>0</td>\n",
       "      <td>1</td>\n",
       "      <td>0</td>\n",
       "      <td>0</td>\n",
       "      <td>0</td>\n",
       "      <td>0</td>\n",
       "      <td>0</td>\n",
       "      <td>0</td>\n",
       "      <td>0</td>\n",
       "      <td>1</td>\n",
       "      <td>0</td>\n",
       "      <td>0</td>\n",
       "      <td>0</td>\n",
       "    </tr>\n",
       "    <tr>\n",
       "      <th>ffefec0cd4e1e2c3fe64bb93f082efdd</th>\n",
       "      <td>0</td>\n",
       "      <td>0</td>\n",
       "      <td>0</td>\n",
       "      <td>0</td>\n",
       "      <td>0</td>\n",
       "      <td>0</td>\n",
       "      <td>0</td>\n",
       "      <td>0</td>\n",
       "      <td>0</td>\n",
       "      <td>0</td>\n",
       "      <td>0</td>\n",
       "      <td>1</td>\n",
       "      <td>0</td>\n",
       "      <td>0</td>\n",
       "      <td>0</td>\n",
       "      <td>0</td>\n",
       "      <td>1</td>\n",
       "    </tr>\n",
       "  </tbody>\n",
       "</table>\n",
       "<p>1147 rows × 17 columns</p>\n",
       "</div>"
      ],
      "text/plain": [
       "                                  Zone1  Zone10  Zone11  Zone12  Zone13  \\\n",
       "00360f79fd6e02781457eda48f85da90      0       0       0       0       0   \n",
       "0043db5e8c819bffc15261b1f1ac5e42      1       0       0       0       0   \n",
       "...                                 ...     ...     ...     ...     ...   \n",
       "ff9c9b7de5dacc8315e2bbc18c451c49      1       0       0       0       0   \n",
       "ffefec0cd4e1e2c3fe64bb93f082efdd      0       0       0       0       0   \n",
       "\n",
       "                                  Zone14  Zone15  Zone16  Zone17  Zone2  \\\n",
       "00360f79fd6e02781457eda48f85da90       1       0       0       0      0   \n",
       "0043db5e8c819bffc15261b1f1ac5e42       1       0       0       0      0   \n",
       "...                                  ...     ...     ...     ...    ...   \n",
       "ff9c9b7de5dacc8315e2bbc18c451c49       1       0       0       0      0   \n",
       "ffefec0cd4e1e2c3fe64bb93f082efdd       0       0       0       0      0   \n",
       "\n",
       "                                  Zone3  Zone4  Zone5  Zone6  Zone7  Zone8  \\\n",
       "00360f79fd6e02781457eda48f85da90      0      0      0      0      0      0   \n",
       "0043db5e8c819bffc15261b1f1ac5e42      0      0      0      0      0      0   \n",
       "...                                 ...    ...    ...    ...    ...    ...   \n",
       "ff9c9b7de5dacc8315e2bbc18c451c49      0      0      0      1      0      0   \n",
       "ffefec0cd4e1e2c3fe64bb93f082efdd      0      1      0      0      0      0   \n",
       "\n",
       "                                  Zone9  \n",
       "00360f79fd6e02781457eda48f85da90      0  \n",
       "0043db5e8c819bffc15261b1f1ac5e42      1  \n",
       "...                                 ...  \n",
       "ff9c9b7de5dacc8315e2bbc18c451c49      0  \n",
       "ffefec0cd4e1e2c3fe64bb93f082efdd      1  \n",
       "\n",
       "[1147 rows x 17 columns]"
      ]
     },
     "execution_count": 52,
     "metadata": {},
     "output_type": "execute_result"
    }
   ],
   "source": [
    "df"
   ]
  },
  {
   "cell_type": "code",
   "execution_count": 66,
   "metadata": {},
   "outputs": [
    {
     "data": {
      "text/plain": [
       "0"
      ]
     },
     "execution_count": 66,
     "metadata": {},
     "output_type": "execute_result"
    }
   ],
   "source": [
    "df.loc['0043db5e8c819bffc15261b1f1ac5e42','Zone16']"
   ]
  }
 ],
 "metadata": {
  "kernelspec": {
   "display_name": "Python [conda env:tensorflow_kaggle_clone]",
   "language": "python",
   "name": "conda-env-tensorflow_kaggle_clone-py"
  },
  "language_info": {
   "codemirror_mode": {
    "name": "ipython",
    "version": 3
   },
   "file_extension": ".py",
   "mimetype": "text/x-python",
   "name": "python",
   "nbconvert_exporter": "python",
   "pygments_lexer": "ipython3",
   "version": "3.6.2"
  }
 },
 "nbformat": 4,
 "nbformat_minor": 2
}
